{
  "cells": [
    {
      "cell_type": "markdown",
      "metadata": {
        "id": "imqUqNVTOoh5"
      },
      "source": []
    },
    {
      "cell_type": "markdown",
      "metadata": {
        "id": "2nwdNugwOqEI"
      },
      "source": [
        "1. Difference between a function and a method in Python\n",
        "\n",
        "Function: A block of code defined using def that performs a specific task. It can exist independently.\n",
        "\n",
        "Method: A function that is associated with an object (class instance) and is called using dot notation.\n",
        "\n",
        "  "
      ]
    },
    {
      "cell_type": "code",
      "execution_count": 1,
      "metadata": {
        "colab": {
          "base_uri": "https://localhost:8080/"
        },
        "id": "WvRX2EwvQD5Y",
        "outputId": "fa6cd5f9-0a10-4666-f354-c75089b5dc4f"
      },
      "outputs": [
        {
          "name": "stdout",
          "output_type": "stream",
          "text": [
            "Hello Alice\n",
            "Hello Bob\n"
          ]
        }
      ],
      "source": [
        "# Function\n",
        "def greet(name):\n",
        "    return f\"Hello {name}\"\n",
        "\n",
        "# Method\n",
        "class Person:\n",
        "    def __init__(self, name):\n",
        "       self.name = name\n",
        "\n",
        "    def greet(self):  # Method\n",
        "        return f\"Hello {self.name}\"\n",
        "\n",
        "print(greet(\"Alice\"))         # Function call\n",
        "print(Person(\"Bob\").greet())  # Method call"
      ]
    },
    {
      "cell_type": "markdown",
      "metadata": {
        "id": "UZmUSZFRPI8C"
      },
      "source": [
        "2. Function arguments and parameters\n",
        "\n",
        "Parameter: Variable in function definition.\n",
        "\n",
        "Argument: Value passed to function when called."
      ]
    },
    {
      "cell_type": "code",
      "execution_count": 2,
      "metadata": {
        "colab": {
          "base_uri": "https://localhost:8080/"
        },
        "id": "QFWX2jNhQSl_",
        "outputId": "7e3dc0d5-73cd-4fd2-c397-df5969ef28a6"
      },
      "outputs": [
        {
          "name": "stdout",
          "output_type": "stream",
          "text": [
            "15\n"
          ]
        }
      ],
      "source": [
        "def add(a, b):  # a, b are parameters\n",
        "    return a + b\n",
        "\n",
        "print(add(5, 10))  # 5, 10 are arguments"
      ]
    },
    {
      "cell_type": "code",
      "execution_count": 3,
      "metadata": {
        "colab": {
          "base_uri": "https://localhost:8080/"
        },
        "id": "3-jYSNSWQdqb",
        "outputId": "2c9a2d04-3eb4-4fe5-923c-cbb98c726cb9"
      },
      "outputs": [
        {
          "name": "stdout",
          "output_type": "stream",
          "text": [
            "Hello Alice\n",
            "Hello Guest\n",
            "10\n"
          ]
        }
      ],
      "source": [
        "# 3. \"\"\"Different ways to define and call a function\n",
        "\n",
        "# Standard function\n",
        "\n",
        "# With default arguments\n",
        "\n",
        "# With variable arguments (*args, **kwargs)\n",
        "\n",
        "# Lambda function\"\"\"\n",
        "\n",
        "def greet(name=\"Guest\"):\n",
        "    return f\"Hello {name}\"\n",
        "\n",
        "def add_all(*args):\n",
        "    return sum(args)\n",
        "\n",
        "print(greet(\"Alice\"))\n",
        "print(greet())\n",
        "print(add_all(1, 2, 3, 4))"
      ]
    },
    {
      "cell_type": "code",
      "execution_count": 4,
      "metadata": {
        "colab": {
          "base_uri": "https://localhost:8080/"
        },
        "id": "gUS52PxjQyVT",
        "outputId": "abc5acd7-897f-4a9b-fbfd-122d6065690a"
      },
      "outputs": [
        {
          "name": "stdout",
          "output_type": "stream",
          "text": [
            "25\n"
          ]
        }
      ],
      "source": [
        "\"\"\" 4. Purpose of return statement\n",
        "\n",
        "Returns a value from a function. Without it, function returns None. \"\"\"\n",
        "\n",
        "def square(x):\n",
        "    return x * x\n",
        "\n",
        "print(square(5))  # 25\n"
      ]
    },
    {
      "cell_type": "code",
      "execution_count": 5,
      "metadata": {
        "colab": {
          "base_uri": "https://localhost:8080/"
        },
        "id": "d3ymKjVQQ_Eg",
        "outputId": "446da571-1e7c-47bc-ab0b-e1d8eb10abc2"
      },
      "outputs": [
        {
          "name": "stdout",
          "output_type": "stream",
          "text": [
            "1\n",
            "2\n"
          ]
        }
      ],
      "source": [
        "\"\"\"5. Iterators vs Iterables\n",
        "\n",
        "Iterable: Object with __iter__() method (list, tuple, string).\n",
        "\n",
        "Iterator: Object with __next__() method (gets next element until StopIteration).\"\"\"\n",
        "\n",
        "nums = [1, 2, 3]\n",
        "it = iter(nums)  # Iterator from iterable\n",
        "print(next(it))  # 1\n",
        "print(next(it))  # 2\n"
      ]
    },
    {
      "cell_type": "code",
      "execution_count": 6,
      "metadata": {
        "colab": {
          "base_uri": "https://localhost:8080/"
        },
        "id": "4huY8HhNRH56",
        "outputId": "271a7233-0f77-492c-ee94-5bb5bbe3f207"
      },
      "outputs": [
        {
          "name": "stdout",
          "output_type": "stream",
          "text": [
            "1\n",
            "4\n",
            "9\n",
            "16\n",
            "25\n"
          ]
        }
      ],
      "source": [
        "\"\"\"6. Generators in Python\n",
        "\n",
        "Special functions that use yield instead of return.\n",
        "\n",
        "They generate values lazily (on demand).\"\"\"\n",
        "\n",
        "def squares(n):\n",
        "    for i in range(1, n+1):\n",
        "        yield i * i\n",
        "\n",
        "for val in squares(5):\n",
        "    print(val)\n"
      ]
    },
    {
      "cell_type": "code",
      "execution_count": 7,
      "metadata": {
        "id": "ywJEbdbLRPfP"
      },
      "outputs": [
        {
          "data": {
            "text/plain": [
              "'7. Advantages of Generators\\n\\nSave memory (do not store entire sequence in memory).\\n\\nUseful for large datasets or infinite sequences.\\n\\nImprove performance with lazy evaluation.'"
            ]
          },
          "execution_count": 7,
          "metadata": {},
          "output_type": "execute_result"
        }
      ],
      "source": [
        "\"\"\"7. Advantages of Generators\n",
        "\n",
        "Save memory (do not store entire sequence in memory).\n",
        "\n",
        "Useful for large datasets or infinite sequences.\n",
        "\n",
        "Improve performance with lazy evaluation.\"\"\""
      ]
    },
    {
      "cell_type": "code",
      "execution_count": 8,
      "metadata": {
        "colab": {
          "base_uri": "https://localhost:8080/"
        },
        "id": "YsUKw_HVRTHF",
        "outputId": "c4a2cdca-1cb2-46ff-de6e-d0290fabdd62"
      },
      "outputs": [
        {
          "name": "stdout",
          "output_type": "stream",
          "text": [
            "25\n"
          ]
        }
      ],
      "source": [
        "\"\"\"8. Lambda function\n",
        "\n",
        "Anonymous one-line function using lambda.\n",
        "\n",
        "Typically used in map(), filter(), sorted().\"\"\"\n",
        "\n",
        "square = lambda x: x*x\n",
        "print(square(5))\n"
      ]
    },
    {
      "cell_type": "code",
      "execution_count": 9,
      "metadata": {
        "colab": {
          "base_uri": "https://localhost:8080/"
        },
        "id": "vaBJLuCPRbPT",
        "outputId": "1b7e67b5-90c9-46ac-cf43-ef9e9974de84"
      },
      "outputs": [
        {
          "name": "stdout",
          "output_type": "stream",
          "text": [
            "[1, 4, 9]\n"
          ]
        }
      ],
      "source": [
        "\"\"\"9. Purpose of map()\n",
        "\n",
        "Applies a function to each item in an iterable.\"\"\"\n",
        "\n",
        "nums = [1, 2, 3]\n",
        "squares = list(map(lambda x: x*x, nums))\n",
        "print(squares)\n"
      ]
    },
    {
      "cell_type": "code",
      "execution_count": 10,
      "metadata": {
        "colab": {
          "base_uri": "https://localhost:8080/"
        },
        "id": "MbeTkiz5Ro-T",
        "outputId": "b403afb5-6f68-4ac7-9e6d-c3d48023c1f4"
      },
      "outputs": [
        {
          "name": "stdout",
          "output_type": "stream",
          "text": [
            "[1, 4, 9, 16]\n",
            "[2, 4]\n",
            "10\n"
          ]
        }
      ],
      "source": [
        "\"\"\"10. Difference: map(), reduce(), filter()\n",
        "\n",
        "map() → Applies function to all elements.\n",
        "\n",
        "filter() → Filters elements by condition.\n",
        "\n",
        "reduce() → Applies rolling computation (cumulative).\"\"\"\n",
        "\n",
        "from functools import reduce\n",
        "\n",
        "nums = [1, 2, 3, 4]\n",
        "print(list(map(lambda x: x*x, nums)))         # [1,4,9,16]\n",
        "print(list(filter(lambda x: x%2==0, nums)))   # [2,4]\n",
        "print(reduce(lambda x,y: x+y, nums))          # 10\n"
      ]
    },
    {
      "cell_type": "code",
      "execution_count": 11,
      "metadata": {
        "colab": {
          "base_uri": "https://localhost:8080/",
          "height": 106
        },
        "id": "ST5ALvzPRw01",
        "outputId": "a5be8ce3-b771-45eb-e6f4-3d443ff3382b"
      },
      "outputs": [
        {
          "name": "stdout",
          "output_type": "stream",
          "text": [
            "Step 1: (47 + 11) = 58\n",
            "Step 2: (58 + 42) = 100\n",
            "Step 3: (100 + 13) = 113\n",
            "Final Result = 113\n"
          ]
        }
      ],
      "source": [
        "\"\"\"11. Internal mechanism of reduce() on [47,11,42,13]\n",
        "\n",
        "Step-by-step with lambda x,y: x+y:\"\"\"\n",
        "\n",
        "from functools import reduce\n",
        "\n",
        "data = [47, 11, 42, 13]\n",
        "\n",
        "def add_trace(a, b, _counter={'i': 0}):\n",
        "    _counter['i'] += 1\n",
        "    res = a + b\n",
        "    print(f\"Step {_counter['i']}: ({a} + {b}) = {res}\")\n",
        "    return res\n",
        "\n",
        "total = reduce(add_trace, data)\n",
        "print(\"Final Result =\", total)\n"
      ]
    },
    {
      "cell_type": "code",
      "execution_count": 12,
      "metadata": {
        "colab": {
          "base_uri": "https://localhost:8080/"
        },
        "id": "qWW6O3PeSyz9",
        "outputId": "874044c5-9df7-4f09-8666-ae5783da83eb"
      },
      "outputs": [
        {
          "name": "stdout",
          "output_type": "stream",
          "text": [
            "12\n"
          ]
        }
      ],
      "source": [
        "# 1) Write a Python function that takes a list of numbers as input\n",
        "#    and returns the sum of all even numbers in the list.\n",
        "def sum_even(nums):\n",
        "    return sum(n for n in nums if n % 2 == 0)\n",
        "\n",
        "print(sum_even([1,2,3,4,5,6]))\n"
      ]
    },
    {
      "cell_type": "code",
      "execution_count": 13,
      "metadata": {
        "colab": {
          "base_uri": "https://localhost:8080/"
        },
        "id": "53dq2k7AS0t0",
        "outputId": "f6a2a100-3505-4433-d17f-ba9722603dd2"
      },
      "outputs": [
        {
          "name": "stdout",
          "output_type": "stream",
          "text": [
            "nohtyP\n"
          ]
        }
      ],
      "source": [
        "# 2) Create a Python function that accepts a string and returns the reverse of that string.\n",
        "def reverse_string(s):\n",
        "    return s[::-1]\n",
        "\n",
        "print(reverse_string(\"Python\"))\n"
      ]
    },
    {
      "cell_type": "code",
      "execution_count": 14,
      "metadata": {
        "id": "i-TNu5nXS4mu"
      },
      "outputs": [
        {
          "name": "stdout",
          "output_type": "stream",
          "text": [
            "[1, 4, 9, 16]\n"
          ]
        }
      ],
      "source": [
        "# 3) Implement a Python function that takes a list of integers\n",
        "#    and returns a new list containing the squares of each number.\n",
        "def squares_list(nums):\n",
        "    return [n*n for n in nums]\n",
        "\n",
        "print(squares_list([1,2,3,4]))\n"
      ]
    },
    {
      "cell_type": "code",
      "execution_count": 15,
      "metadata": {
        "id": "xhPSJprLTf44"
      },
      "outputs": [
        {
          "name": "stdout",
          "output_type": "stream",
          "text": [
            "[2, 3, 5, 7, 11, 13, 17, 19, 23, 29, 31, 37, 41, 43, 47, 53, 59, 61, 67, 71, 73, 79, 83, 89, 97, 101, 103, 107, 109, 113, 127, 131, 137, 139, 149, 151, 157, 163, 167, 173, 179, 181, 191, 193, 197, 199]\n"
          ]
        }
      ],
      "source": [
        "# 4) Write a Python function that checks if a given number is prime or not from 1 to 200.\n",
        "def is_prime(n):\n",
        "    if n < 2:\n",
        "        return False\n",
        "    for i in range(2,int(n**0.5)+1):\n",
        "        if n % i == 0:\n",
        "            return False\n",
        "    return True\n",
        "\n",
        "primes = [n for n in range(1,201) if is_prime(n)]\n",
        "print(primes)\n"
      ]
    },
    {
      "cell_type": "code",
      "execution_count": 16,
      "metadata": {
        "id": "qQsj0i-MT8yc"
      },
      "outputs": [
        {
          "name": "stdout",
          "output_type": "stream",
          "text": [
            "0\n",
            "1\n",
            "1\n",
            "2\n",
            "3\n",
            "5\n",
            "8\n",
            "13\n",
            "21\n",
            "34\n"
          ]
        }
      ],
      "source": [
        "# 5) Create an iterator class in Python that generates the Fibonacci sequence up to a specified number of terms.\n",
        "class Fibonacci:\n",
        "    def __init__(self, terms):\n",
        "        self.terms = terms\n",
        "        self.a, self.b = 0, 1\n",
        "        self.count = 0\n",
        "\n",
        "    def __iter__(self):\n",
        "        return self\n",
        "\n",
        "    def __next__(self):\n",
        "        if self.count >= self.terms:\n",
        "            raise StopIteration\n",
        "        self.count += 1\n",
        "        val = self.a\n",
        "        self.a, self.b = self.b, self.a + self.b\n",
        "        return val\n",
        "\n",
        "for num in Fibonacci(10):\n",
        "    print(num)\n"
      ]
    },
    {
      "cell_type": "code",
      "execution_count": 17,
      "metadata": {
        "id": "CwzWX-U-UEim"
      },
      "outputs": [
        {
          "name": "stdout",
          "output_type": "stream",
          "text": [
            "[1, 2, 4, 8, 16, 32]\n"
          ]
        }
      ],
      "source": [
        "# 6) Write a generator function in Python that yields the powers of 2 up to a given exponent.\n",
        "def powers_of_two(n):\n",
        "    for i in range(n+1):\n",
        "        yield 2**i\n",
        "\n",
        "print(list(powers_of_two(5)))\n"
      ]
    },
    {
      "cell_type": "code",
      "execution_count": 18,
      "metadata": {
        "id": "1a6Lma9RUG2H"
      },
      "outputs": [],
      "source": [
        "# 7) Implement a generator function that reads a file line by line and yields each line as a string.\n",
        "def read_file(filename):\n",
        "    with open(filename) as f:\n",
        "        for line in f:\n",
        "            yield line.strip()\n"
      ]
    },
    {
      "cell_type": "code",
      "execution_count": 19,
      "metadata": {
        "id": "GTaY5D7GUJHD"
      },
      "outputs": [
        {
          "name": "stdout",
          "output_type": "stream",
          "text": [
            "[(2, 1), (3, 2), (1, 3)]\n"
          ]
        }
      ],
      "source": [
        "# 8) Use a lambda function in Python to sort a list of tuples based on the second element of each tuple.\n",
        "data = [(1,3),(2,1),(3,2)]\n",
        "sorted_data = sorted(data, key=lambda x: x[1])\n",
        "print(sorted_data)\n"
      ]
    },
    {
      "cell_type": "code",
      "execution_count": 20,
      "metadata": {
        "id": "tYkU3lZWULWo"
      },
      "outputs": [
        {
          "name": "stdout",
          "output_type": "stream",
          "text": [
            "[32.0, 50.0, 68.0, 86.0]\n"
          ]
        }
      ],
      "source": [
        "# 9) Write a Python program that uses map() to convert a list of temperatures from Celsius to Fahrenheit.\n",
        "celsius = [0, 10, 20, 30]\n",
        "fahrenheit = list(map(lambda c: (c*9/5)+32, celsius))\n",
        "print(fahrenheit)\n"
      ]
    },
    {
      "cell_type": "code",
      "execution_count": 21,
      "metadata": {
        "id": "rcKiW5DDUN3F"
      },
      "outputs": [
        {
          "name": "stdout",
          "output_type": "stream",
          "text": [
            "hll wrld\n"
          ]
        }
      ],
      "source": [
        "# 10) Create a Python program that uses filter() to remove all the vowels from a given string.\n",
        "def remove_vowels(s):\n",
        "    return ''.join(filter(lambda ch: ch.lower() not in \"aeiou\", s))\n",
        "\n",
        "print(remove_vowels(\"hello world\"))\n"
      ]
    },
    {
      "cell_type": "code",
      "execution_count": 22,
      "metadata": {
        "id": "f0alAiS9UQrC"
      },
      "outputs": [
        {
          "name": "stdout",
          "output_type": "stream",
          "text": [
            "[(34587, 163.8), (98762, 284.0), (77226, 108.85000000000001), (88112, 84.97)]\n"
          ]
        }
      ],
      "source": [
        "# 11) Imagine an accounting routine used in a book shop.\n",
        "#     It works on a list with sublists like:\n",
        "#     [order_number, book_title, quantity, price_per_item]\n",
        "#     Write a Python program which returns a list with 2-tuples.\n",
        "#     Each tuple = (order_number, total_price).\n",
        "#     If total_price < 100, add €10.\n",
        "#     Use lambda and map.\n",
        "\n",
        "orders = [\n",
        "    [34587, \"Learning Python\", 4, 40.95],\n",
        "    [98762, \"Programming in C\", 5, 56.80],\n",
        "    [77226, \"Head First Java\", 3, 32.95],\n",
        "    [88112, \"Intro to Algorithms\", 3, 24.99]\n",
        "]\n",
        "\n",
        "result = list(map(lambda x: (x[0], x[2]*x[3] if x[2]*x[3]>=100 else x[2]*x[3]+10), orders))\n",
        "print(result)\n"
      ]
    }
  ],
  "metadata": {
    "colab": {
      "provenance": []
    },
    "kernelspec": {
      "display_name": "Python 3",
      "name": "python3"
    },
    "language_info": {
      "codemirror_mode": {
        "name": "ipython",
        "version": 3
      },
      "file_extension": ".py",
      "mimetype": "text/x-python",
      "name": "python",
      "nbconvert_exporter": "python",
      "pygments_lexer": "ipython3",
      "version": "3.13.1"
    }
  },
  "nbformat": 4,
  "nbformat_minor": 0
}
